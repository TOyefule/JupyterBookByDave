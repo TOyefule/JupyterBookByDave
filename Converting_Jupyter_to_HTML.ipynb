{
 "cells": [
  {
   "cell_type": "markdown",
   "metadata": {},
   "source": [
    "code from Feb 28 \n",
    "currently having issues with subprocess check_output returning non-zero exit status when creating the html\n"
   ]
  },
  {
   "cell_type": "markdown",
   "metadata": {},
   "source": [
    "###  How to open a file dialog box\n",
    "Tkinter is the easiest way if you don't want to have any \n",
    "other dependencies. \n",
    "An alternative that uses tkinter is \n",
    "https://easygui.readthedocs.io/en/master/\n",
    "\n",
    "\n",
    "```python\n",
    "# open file dialog box\n",
    "import tkinter as tk\n",
    "from tkinter import filedialog\n",
    "\n",
    "# To show only the dialog without any \n",
    "# other GUI elements, you have to hide the root window \n",
    "# using the withdraw method:\n",
    "root = tk.Tk()\n",
    "root.withdraw()\n",
    "\n",
    "print(\"Select the Jupyter Notebook you wish to convert\")\n",
    "fn = filedialog.askopenfilename()\n",
    "print(file_path)\n",
    "```"
   ]
  },
  {
   "cell_type": "markdown",
   "metadata": {},
   "source": [
    "### How to run a shell command from python\n",
    "```python\n",
    "# run a shell command from python and get the response\n",
    "# as a string into a varaiable which you can print or discard\n",
    "from subprocess import check_output\n",
    "response = check_output(\"dir C:\", shell=True)\n",
    "print (response)\n",
    "```"
   ]
  },
  {
   "cell_type": "markdown",
   "metadata": {},
   "source": [
    "#### How to convert a Jupyter Notebook to HTML using nbconvert\n",
    "##### verify that you have nbconvert installed as part of Anaconda\n",
    "```cmd\n",
    "jupyter nbconvert --help\n",
    "```\n",
    "\n",
    "The simplest way to use nbconvert is\n",
    "    > jupyter nbconvert mynotebook.ipynb\n",
    "which will convert mynotebook.ipynb to the default format (probably HTML).\n",
    "\n",
    "You can specify the export format with `--to`.\n",
    "Options include ['asciidoc', 'custom', 'html', 'latex', 'markdown', 'notebook', 'pdf', 'python', 'rst', 'script', 'slides']"
   ]
  },
  {
   "cell_type": "code",
   "execution_count": null,
   "metadata": {
    "collapsed": true
   },
   "outputs": [],
   "source": [
    "import os\n",
    "# open file dialog box\n",
    "import tkinter as tk\n",
    "from tkinter import filedialog\n",
    "import subprocess\n",
    "# from subprocess import check_output\n",
    "\n",
    "root = tk.Tk()\n",
    "root.wm_attributes('-topmost', 1)\n",
    "root.lift()\n",
    "root.withdraw()\n",
    "\n",
    "print(\"Select the Jupyter Notebook you wish to convert\")\n",
    "fn = filedialog.askopenfilename()\n",
    "# print(file_path)\n",
    "# jupyter nbconvert --to html --template basic Jupyter_Book_Notes.ipynb\n",
    "print (fn)\n",
    "cmd = \"jupyter nbconvert --to html --template basic {0}\".format(fn)\n",
    "print (cmd)\n",
    "\n",
    "os.system(cmd)\n",
    "\n",
    "# try:\n",
    "    # response = check_output(cmd, shell=True)\n",
    "    # response = check_output(['jupyter','nbconvert --to html --template basic ' + fn])\n",
    "    # print(response)\n",
    "# except subprocess.CalledProcessError as e:\n",
    "#    print (e)\n",
    "    \n"
   ]
  },
  {
   "cell_type": "code",
   "execution_count": 15,
   "metadata": {},
   "outputs": [
    {
     "name": "stdout",
     "output_type": "stream",
     "text": [
      "Select the Directory containing Jupyter Notebooks you wish to convert\n"
     ]
    },
    {
     "ename": "PermissionError",
     "evalue": "[WinError 32] The process cannot access the file because it is being used by another process: 'C:/Temp/aaa/My Book\\\\TableOfContents.html'",
     "output_type": "error",
     "traceback": [
      "\u001b[1;31m---------------------------------------------------------------------------\u001b[0m",
      "\u001b[1;31mPermissionError\u001b[0m                           Traceback (most recent call last)",
      "\u001b[1;32m<ipython-input-15-14bf77c922cc>\u001b[0m in \u001b[0;36m<module>\u001b[1;34m()\u001b[0m\n\u001b[0;32m     41\u001b[0m         \u001b[0minfile\u001b[0m \u001b[1;33m=\u001b[0m \u001b[0mos\u001b[0m\u001b[1;33m.\u001b[0m\u001b[0mpath\u001b[0m\u001b[1;33m.\u001b[0m\u001b[0mjoin\u001b[0m\u001b[1;33m(\u001b[0m\u001b[0mroot\u001b[0m\u001b[1;33m,\u001b[0m\u001b[0mfilename\u001b[0m\u001b[1;33m)\u001b[0m\u001b[1;33m\u001b[0m\u001b[0m\n\u001b[0;32m     42\u001b[0m         \u001b[1;32mif\u001b[0m \u001b[0mext\u001b[0m \u001b[1;33m==\u001b[0m \u001b[1;34m\".html\"\u001b[0m\u001b[1;33m:\u001b[0m\u001b[1;33m\u001b[0m\u001b[0m\n\u001b[1;32m---> 43\u001b[1;33m             \u001b[0mos\u001b[0m\u001b[1;33m.\u001b[0m\u001b[0munlink\u001b[0m\u001b[1;33m(\u001b[0m\u001b[0minfile\u001b[0m\u001b[1;33m)\u001b[0m\u001b[1;33m\u001b[0m\u001b[0m\n\u001b[0m\u001b[0;32m     44\u001b[0m         \u001b[1;32melse\u001b[0m\u001b[1;33m:\u001b[0m\u001b[1;33m\u001b[0m\u001b[0m\n\u001b[0;32m     45\u001b[0m             \u001b[0moutfile\u001b[0m \u001b[1;33m=\u001b[0m \u001b[0mos\u001b[0m\u001b[1;33m.\u001b[0m\u001b[0mpath\u001b[0m\u001b[1;33m.\u001b[0m\u001b[0mjoin\u001b[0m\u001b[1;33m(\u001b[0m\u001b[0mpath\u001b[0m\u001b[1;33m,\u001b[0m\u001b[0mfilename\u001b[0m\u001b[1;33m)\u001b[0m\u001b[1;33m\u001b[0m\u001b[0m\n",
      "\u001b[1;31mPermissionError\u001b[0m: [WinError 32] The process cannot access the file because it is being used by another process: 'C:/Temp/aaa/My Book\\\\TableOfContents.html'"
     ]
    }
   ],
   "source": [
    "# loop through a collection of notebooks and md files\n",
    "import os\n",
    "import tkinter as tk\n",
    "from tkinter import filedialog\n",
    "\n",
    "# set properties for the directory open dialog box\n",
    "root = tk.Tk()\n",
    "root.wm_attributes('-topmost', 1)\n",
    "root.lift()\n",
    "root.withdraw()\n",
    "\n",
    "# for OSX\n",
    "# self.root.lift()\n",
    "# self.root.call('wm', 'attributes', '.', '-topmost', True)\n",
    "# self.root.after_idle(self.root.call, 'wm', 'attributes', '.', '-topmost', False)\n",
    "\n",
    "\n",
    "# create TOC (use directory structure and filenames)\n",
    "def appendTOC(TOC,level,text):\n",
    "    fh=open(TOC, \"a+\")\n",
    "    if level == 0:\n",
    "        fh.write(\"{0}\\n\".format(text))\n",
    "    if level == 1:\n",
    "        fh.write(\"\\t{0}\\n\".format(text))\n",
    "    if level == 2:\n",
    "        fh.write(\"\\t\\t{0}\\n\".format(text))\n",
    "    fh.close()\n",
    "    \n",
    "    \n",
    "print(\"Select the Directory containing Jupyter Notebooks you wish to convert\")\n",
    "path = filedialog.askdirectory()\n",
    "\n",
    "\n",
    "for root, directories, filenames in os.walk(path):\n",
    "    TOC = os.path.join(root,\"TableOfContents\")\n",
    "    appendTOC(TOC,0,root)\n",
    "    \n",
    "    #for directory in directories:\n",
    "    for filename in filenames:\n",
    "        name, ext = os.path.splitext(filename)\n",
    "        infile = os.path.join(root,filename)\n",
    "        if ext == \".html\":\n",
    "            os.unlink(infile)\n",
    "        else:\n",
    "            outfile = os.path.join(path,filename)\n",
    "            outfile += \".html\"\n",
    "            print(outfile)\n",
    "            \n",
    "            # add filename to TOC\n",
    "            appendTOC(TOC,0,filename)\n",
    "            \n",
    "            if filename.endswith(\"ipynb\"):    \n",
    "                cmd = \"jupyter nbconvert --output \\\"{0}\\\" --to html --template basic \\\"{1}\\\"\".format(outfile,infile)\n",
    "                # print (cmd)\n",
    "                os.system(cmd) \n",
    "            if filename.endswith(\"md\"):\n",
    "                cmd = \"grip \\\"{0}\\\" --export \\\"{1}\\\"\".format(infile,outfile)\n",
    "                # print (cmd)\n",
    "                os.system(cmd)\n",
    "                \n",
    "            \n",
    "print (\"done printing\")\n",
    "\n",
    "\n",
    "#create PDFs\n",
    "\n",
    "# push to github\n",
    "\n",
    "\n",
    "                  "
   ]
  },
  {
   "cell_type": "markdown",
   "metadata": {},
   "source": [
    "# Generating the TOC"
   ]
  },
  {
   "cell_type": "code",
   "execution_count": 10,
   "metadata": {},
   "outputs": [
    {
     "name": "stdout",
     "output_type": "stream",
     "text": [
      "    \"### Comparisons\\n\",\n",
      "    \"# can you figure out the difference between = and ==\\n\",\n",
      "    \"# Printing\\n\"\n",
      "    \"    word = movielist[index].replace(\\\"\\\\n\\\", \\\"\\\") #remove line ending\\n\",\n",
      "    \"#---------------------------------------------------------------------------------\\n\",\n",
      "    \"#What directory is my file in???\\n\",\n",
      "    \"#It is not necessary to close the file\\n\",\n",
      "    \"#now open the file and read it into a dictionary\\n\",\n",
      "    \"        #print(\\\"You entered \\\" + answer)\\n\",\n",
      "    \"history = open(\\\"myfile.txt\\\",'a')#use w for write, a for append, r for read\\n\",\n",
      "    \"#---------------------------------------------------------------------------------\\n\",\n",
      "    \"#---------------------------------------------------------------------------------\\n\",\n",
      "    \"#---------------------------------------------------------------------------------\\n\",\n",
      "    \"# A python helper function that prints code \\n\",\n",
      "    \"#---------------------------------------------------------------------------------\\n\"\n",
      "    \"#---------------------------------------------------------------------------------\\n\",\n",
      "    \"#Your next assignment is to add a counter to the movies\\n\",\n",
      "    \"        #print(\\\"You entered \\\" + answer)\\n\",\n",
      "    \"#Your next assignment is to append all your answers to a variable named history and show history after the user quits\\n\",\n"
     ]
    }
   ],
   "source": [
    "import sys\n",
    "import re\n",
    "import getopt\n",
    "\n",
    "def generateTOC(filename):\n",
    "    pattern = \"#\"\n",
    "    bufsize = 64 * 1024\n",
    "    reflags = 0 | re.IGNORECASE\n",
    "\n",
    "    try:\n",
    "        prog = re.compile(pattern, reflags)\n",
    "    except re.error as msg:\n",
    "        usage(\"error in regular expression: %s\" % msg)\n",
    "\n",
    "\n",
    "    try:\n",
    "        f = open(filename)\n",
    "    except IOError as msg:\n",
    "        usage(\"can't open %r: %s\" % (filename, msg), 1)\n",
    "\n",
    "    f.seek(0, 2)\n",
    "    pos = f.tell()\n",
    "    leftover = None\n",
    "    while pos > 0:\n",
    "        size = min(pos, bufsize)\n",
    "        pos = pos - size\n",
    "        f.seek(pos)\n",
    "        buffer = f.read(size)\n",
    "        lines = buffer.split(\"\\n\")\n",
    "        del buffer\n",
    "        if leftover is None:\n",
    "            if not lines[-1]:\n",
    "                del lines[-1]\n",
    "        else:\n",
    "            lines[-1] = lines[-1] + leftover\n",
    "        if pos > 0:\n",
    "            leftover = lines[0]\n",
    "            del lines[0]\n",
    "        else:\n",
    "            leftover = None\n",
    "        for line in reversed(lines):\n",
    "            if prog.search(line):\n",
    "                print(line)\n",
    "\n",
    "\n",
    "                \n",
    "fn = r'C:\\Temp\\aaa\\My Book\\content\\Chapter 2\\Section 1\\Python+Fundamentals.ipynb'\n",
    "generateTOC(fn)                "
   ]
  },
  {
   "cell_type": "markdown",
   "metadata": {},
   "source": [
    "### Random notes\n",
    "\n",
    "must install python grip... add notes explaining this\n",
    "\n",
    "https://nbconvert.readthedocs.io/en/latest/index.html\n",
    "\n",
    "https://www.blog.pythonlibrary.org/2018/10/09/how-to-export-jupyter-notebooks-into-other-formats/"
   ]
  }
 ],
 "metadata": {
  "kernelspec": {
   "display_name": "Python 3",
   "language": "python",
   "name": "python3"
  },
  "language_info": {
   "codemirror_mode": {
    "name": "ipython",
    "version": 3
   },
   "file_extension": ".py",
   "mimetype": "text/x-python",
   "name": "python",
   "nbconvert_exporter": "python",
   "pygments_lexer": "ipython3",
   "version": "3.6.3"
  }
 },
 "nbformat": 4,
 "nbformat_minor": 2
}
