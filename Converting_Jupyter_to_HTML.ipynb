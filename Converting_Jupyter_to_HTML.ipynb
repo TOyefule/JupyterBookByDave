{
 "cells": [
  {
   "cell_type": "markdown",
   "metadata": {},
   "source": [
    "code from Feb 28 \n",
    "currently having issues with subprocess check_output returning non-zero exit status when creating the html\n"
   ]
  },
  {
   "cell_type": "markdown",
   "metadata": {},
   "source": [
    "###  How to open a file dialog box\n",
    "Tkinter is the easiest way if you don't want to have any \n",
    "other dependencies. \n",
    "An alternative that uses tkinter is \n",
    "https://easygui.readthedocs.io/en/master/\n",
    "\n",
    "\n",
    "```python\n",
    "# open file dialog box\n",
    "import tkinter as tk\n",
    "from tkinter import filedialog\n",
    "\n",
    "# To show only the dialog without any \n",
    "# other GUI elements, you have to hide the root window \n",
    "# using the withdraw method:\n",
    "root = tk.Tk()\n",
    "root.withdraw()\n",
    "\n",
    "print(\"Select the Jupyter Notebook you wish to convert\")\n",
    "fn = filedialog.askopenfilename()\n",
    "print(file_path)\n",
    "```"
   ]
  },
  {
   "cell_type": "markdown",
   "metadata": {},
   "source": [
    "### How to run a shell command from python\n",
    "```python\n",
    "# run a shell command from python and get the response\n",
    "# as a string into a varaiable which you can print or discard\n",
    "from subprocess import check_output\n",
    "response = check_output(\"dir C:\", shell=True)\n",
    "print (response)\n",
    "```"
   ]
  },
  {
   "cell_type": "markdown",
   "metadata": {},
   "source": [
    "#### How to convert a Jupyter Notebook to HTML using nbconvert\n",
    "##### verify that you have nbconvert installed as part of Anaconda\n",
    "```cmd\n",
    "jupyter nbconvert --help\n",
    "```\n",
    "\n",
    "The simplest way to use nbconvert is\n",
    "    > jupyter nbconvert mynotebook.ipynb\n",
    "which will convert mynotebook.ipynb to the default format (probably HTML).\n",
    "\n",
    "You can specify the export format with `--to`.\n",
    "Options include ['asciidoc', 'custom', 'html', 'latex', 'markdown', 'notebook', 'pdf', 'python', 'rst', 'script', 'slides']"
   ]
  },
  {
   "cell_type": "code",
   "execution_count": 1,
   "metadata": {},
   "outputs": [
    {
     "name": "stdout",
     "output_type": "stream",
     "text": [
      "Anythingf\n",
      "Select the Jupyter Notebook you wish to convert\n",
      "\n",
      "jupyter nbconvert --to html --template basic \n"
     ]
    },
    {
     "data": {
      "text/plain": [
       "-1"
      ]
     },
     "execution_count": 1,
     "metadata": {},
     "output_type": "execute_result"
    }
   ],
   "source": [
    "import os\n",
    "# open file dialog box\n",
    "import tkinter as tk\n",
    "from tkinter import filedialog\n",
    "import subprocess\n",
    "# from subprocess import check_output\n",
    "\n",
    "root = tk.Tk()\n",
    "root.wm_attributes('-topmost', 1)\n",
    "root.lift()\n",
    "root.withdraw()\n",
    "input(\"Anything\")\n",
    "\n",
    "print(\"Select the Jupyter Notebook you wish to convert\")\n",
    "fn = filedialog.askopenfilename()\n",
    "# print(file_path)\n",
    "# jupyter nbconvert --to html --template basic Jupyter_Book_Notes.ipynb\n",
    "print (fn)\n",
    "cmd = \"jupyter nbconvert --to html --template basic {0}\".format(fn)\n",
    "print (cmd)\n",
    "\n",
    "os.system(cmd)\n",
    "\n",
    "# try:\n",
    "    # response = check_output(cmd, shell=True)\n",
    "    # response = check_output(['jupyter','nbconvert --to html --template basic ' + fn])\n",
    "    # print(response)\n",
    "# except subprocess.CalledProcessError as e:\n",
    "#    print (e)\n",
    "    \n"
   ]
  },
  {
   "cell_type": "code",
   "execution_count": 20,
   "metadata": {},
   "outputs": [
    {
     "name": "stdout",
     "output_type": "stream",
     "text": [
      "Select the Directory containing Jupyter Notebooks you wish to convert\n",
      "jupyter nbconvert --output \"C:/Temp/aaa/My Book\\Chapter 1\\Section 1\\Custom Display Logic.ipynb.html\" --to html --template basic \"C:/Temp/aaa/My Book\\Chapter 1\\Section 1\\Custom Display Logic.ipynb\"\n",
      "jupyter nbconvert --output \"C:/Temp/aaa/My Book\\Chapter 1\\Section 1\\Running Code.ipynb.html\" --to html --template basic \"C:/Temp/aaa/My Book\\Chapter 1\\Section 1\\Running Code.ipynb\"\n",
      "jupyter nbconvert --output \"C:/Temp/aaa/My Book\\Chapter 1\\Section 2\\programming_environment_osx.ipynb.html\" --to html --template basic \"C:/Temp/aaa/My Book\\Chapter 1\\Section 2\\programming_environment_osx.ipynb\"\n",
      "jupyter nbconvert --output \"C:/Temp/aaa/My Book\\Chapter 1\\Section 2\\Python+Fundamentals.ipynb.html\" --to html --template basic \"C:/Temp/aaa/My Book\\Chapter 1\\Section 2\\Python+Fundamentals.ipynb\"\n",
      "jupyter nbconvert --output \"C:/Temp/aaa/My Book\\Chapter 2\\Section 1\\Nbconvert Support.ipynb.html\" --to html --template basic \"C:/Temp/aaa/My Book\\Chapter 2\\Section 1\\Nbconvert Support.ipynb\"\n",
      "jupyter nbconvert --output \"C:/Temp/aaa/My Book\\Chapter 2\\Section 1\\programming_environment_osx.ipynb.html\" --to html --template basic \"C:/Temp/aaa/My Book\\Chapter 2\\Section 1\\programming_environment_osx.ipynb\"\n",
      "jupyter nbconvert --output \"C:/Temp/aaa/My Book\\Chapter 2\\Section 1\\Python+Fundamentals.ipynb.html\" --to html --template basic \"C:/Temp/aaa/My Book\\Chapter 2\\Section 1\\Python+Fundamentals.ipynb\"\n",
      "grip \"C:/Temp/aaa/My Book\\Chapter 3\\Email\\Lesson27.md\" --export \"C:/Temp/aaa/My Book\\Chapter 3\\Email\\Lesson27.md.html\"\n",
      "grip \"C:/Temp/aaa/My Book\\Chapter 3\\Email\\Lesson28.md\" --export \"C:/Temp/aaa/My Book\\Chapter 3\\Email\\Lesson28.md.html\"\n",
      "grip \"C:/Temp/aaa/My Book\\Chapter 3\\Email\\Lesson30.md\" --export \"C:/Temp/aaa/My Book\\Chapter 3\\Email\\Lesson30.md.html\"\n",
      "grip \"C:/Temp/aaa/My Book\\Chapter 3\\Email\\Lesson31.md\" --export \"C:/Temp/aaa/My Book\\Chapter 3\\Email\\Lesson31.md.html\"\n",
      "grip \"C:/Temp/aaa/My Book\\Chapter 3\\Email\\Lesson32.md\" --export \"C:/Temp/aaa/My Book\\Chapter 3\\Email\\Lesson32.md.html\"\n",
      "grip \"C:/Temp/aaa/My Book\\Chapter 3\\Email\\Lesson33.md\" --export \"C:/Temp/aaa/My Book\\Chapter 3\\Email\\Lesson33.md.html\"\n",
      "grip \"C:/Temp/aaa/My Book\\Chapter 3\\Email\\Lesson33_5.md\" --export \"C:/Temp/aaa/My Book\\Chapter 3\\Email\\Lesson33_5.md.html\"\n",
      "done!\n"
     ]
    }
   ],
   "source": [
    "# loop through a collection of notebooks and md files\n",
    "import os\n",
    "import tkinter as tk\n",
    "from tkinter import filedialog\n",
    "\n",
    "# set properties for the directory open dialog box\n",
    "root = tk.Tk()\n",
    "root.wm_attributes('-topmost', 1)\n",
    "root.lift()\n",
    "root.withdraw()\n",
    "\n",
    "# for OSX\n",
    "# self.root.lift()\n",
    "# self.root.call('wm', 'attributes', '.', '-topmost', True)\n",
    "# self.root.after_idle(self.root.call, 'wm', 'attributes', '.', '-topmost', False)\n",
    "\n",
    "\n",
    "print(\"Select the Directory containing Jupyter Notebooks you wish to convert\")\n",
    "path = filedialog.askdirectory()\n",
    "\n",
    "\n",
    "for root, directories, filenames in os.walk(path):\n",
    "    #for directory in directories:\n",
    "    for filename in filenames:\n",
    "        infile = os.path.join(root,filename)\n",
    "        outfile = os.path.join(root,filename)\n",
    "        outfile += \".html\"\n",
    "        if filename.endswith(\"ipynb\"):    \n",
    "            cmd = \"jupyter nbconvert --output \\\"{0}\\\" --to html --template basic \\\"{1}\\\"\".format(outfile,infile)\n",
    "            print (cmd)\n",
    "            os.system(cmd) \n",
    "        if filename.endswith(\"md\"):\n",
    "            cmd = \"grip \\\"{0}\\\" --export \\\"{1}\\\"\".format(infile,outfile)\n",
    "            print (cmd)\n",
    "            os.system(cmd)             \n",
    "            \n",
    "print (\"done!\")            \n",
    "          "
   ]
  },
  {
   "cell_type": "markdown",
   "metadata": {},
   "source": [
    "### Random notes\n",
    "\n",
    "must install python grip... add notes explaining this\n",
    "\n",
    "https://nbconvert.readthedocs.io/en/latest/index.html\n",
    "\n",
    "https://www.blog.pythonlibrary.org/2018/10/09/how-to-export-jupyter-notebooks-into-other-formats/"
   ]
  }
 ],
 "metadata": {
  "kernelspec": {
   "display_name": "Python 3",
   "language": "python",
   "name": "python3"
  },
  "language_info": {
   "codemirror_mode": {
    "name": "ipython",
    "version": 3
   },
   "file_extension": ".py",
   "mimetype": "text/x-python",
   "name": "python",
   "nbconvert_exporter": "python",
   "pygments_lexer": "ipython3",
   "version": "3.6.3"
  }
 },
 "nbformat": 4,
 "nbformat_minor": 2
}
