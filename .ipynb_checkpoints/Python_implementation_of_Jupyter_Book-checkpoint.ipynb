{
 "cells": [
  {
   "cell_type": "markdown",
   "metadata": {},
   "source": [
    "### Create an online interactive textbook with Jupyter Notebooks and Markdown\n",
    "#### and save it as a pdf!\n",
    "\n",
    "\n"
   ]
  },
  {
   "cell_type": "markdown",
   "metadata": {},
   "source": [
    "### The Jupyter Notebook Format\n",
    "https://nbformat.readthedocs.io/en/latest/index.html#"
   ]
  },
  {
   "cell_type": "markdown",
   "metadata": {},
   "source": [
    "#### Jupyter Docker Stacks\n",
    "https://jupyter-docker-stacks.readthedocs.io/en/latest/\n",
    "\n",
    "https://jupyter-docker-stacks.readthedocs.io/en/latest/using/selecting.html#jupyter-base-notebook\n",
    "\n",
    "\n",
    "```bash \n",
    "docker pull jupyter/datascience-notebook:latest\n",
    "latest: Pulling from jupyter/datascience-notebook\n",
    "Digest: sha256:25723edd8a6fb7dc9ff60190c3c6633ea3b2fd494676f6b2ff17aba6048f44\n",
    "docker run -p 8888:8888 jupyter/scipy-notebook:"
   ]
  },
  {
   "cell_type": "code",
   "execution_count": null,
   "metadata": {},
   "outputs": [],
   "source": [
    "import os\n",
    "# print(f'This container is using tag {os.environ[\"TAG\"]} of the jupyter/base-notebook image')"
   ]
  },
  {
   "cell_type": "code",
   "execution_count": null,
   "metadata": {},
   "outputs": [],
   "source": [
    "!id"
   ]
  },
  {
   "cell_type": "code",
   "execution_count": null,
   "metadata": {},
   "outputs": [],
   "source": [
    "!ls -al"
   ]
  },
  {
   "cell_type": "code",
   "execution_count": null,
   "metadata": {},
   "outputs": [],
   "source": [
    "!which conda"
   ]
  },
  {
   "cell_type": "code",
   "execution_count": null,
   "metadata": {},
   "outputs": [],
   "source": [
    "!conda list"
   ]
  },
  {
   "cell_type": "markdown",
   "metadata": {},
   "source": [
    "Top Static Site Generators\n",
    "https://www.netlify.com/blog/2017/05/25/top-ten-static-site-generators-of-2017/\n",
    "\n",
    "Why use Python as a Static Site Generator?\n",
    "https://wiki.python.org/moin/StaticSiteGenerator\n",
    "\n",
    "Python Markdown package\n",
    "https://python-markdown.github.io/\n",
    "\n",
    "nbformat: Jupyter Notebook format library for Python\n",
    "https://nbformat.readthedocs.io/en/latest/index.html\n",
    "\n",
    "nbconvert: Nbconvert is part of the Jupyter ecosystem. For converting markdown to formats other than HTML, nbconvert uses Pandoc and Tex.For converting to PDF, nbconvert uses the TeX document preparation ecosystem. It produces an intermediate .tex file which is compiled by the XeTeX engine with the LaTeX2e format (via the xelatex command) to produce PDF output.\n",
    "https://nbconvert.readthedocs.io/en/latest/install.html\n",
    "\n",
    "Python Markdown TOC\n",
    "https://python-markdown.github.io/extensions/toc/\n",
    "\n",
    "Notebook Extensions allow you to generate TOC and do other cool things to ipynb files\n",
    "https://github.com/ipython-contrib/jupyter_contrib_nbextensions\n"
   ]
  },
  {
   "cell_type": "markdown",
   "metadata": {},
   "source": [
    "#### Goal of the Solution\n",
    "Create Chapters, Sections, Pages and TOC and Index and Search Page\n",
    "Publish HTML\n",
    "\n",
    "Objective 1: python script to create HTML from single Jupyter Notebook\n",
    "```python\n",
    "jupyter nbconvert --to html --template basic Jupyter_Book_Notes.ipynb\n",
    "open -a \"/Applications/Google Chrome.app\" Jupyter_Book_Notes.html\n",
    "```\n",
    "Objective 2: python script to create PDF from single Jupyter Notebook\n",
    "Solution 1: Using nbnotebookpdf (LaTeX free PDF generation) - https://github.com/Anaconda-Platform/nbbrowserpdf\n",
    "```python\n",
    "conda install --channel anaconda-nb-extensions nbbrowserpdf\n",
    "nbbrowserpdf -i Notebook.ipynb -o Notebook.pdf\n",
    "```\n",
    "    \n",
    "Objective 3: python script to create TOC from collection of Jupyter Notebooks\n",
    "See *Creating TOC* below\n",
    "\n",
    "Objective 4: python script to create HTML from single markdown file\n",
    "Objective 5: python script to create PDF from single markdown file\n",
    "Objective 6: python script to create HTML files from multiple markdown files\n",
    "Objective 6: python script to create PDFs from multiple markdown files\n",
    "\n",
    "Bonus Objective: Put all images on cloudinary and replace with URLs\n",
    "Bonus Objective: Add search\n",
    "Bonus Objective: create repo and push to github (or update)\n"
   ]
  },
  {
   "cell_type": "markdown",
   "metadata": {},
   "source": [
    "### Using nbconvert\n",
    "\n",
    "> jupyter nbconvert --to latex mynotebook.ipynb\n",
    "    \n",
    "    Both HTML and LaTeX support multiple output templates. LaTeX includes\n",
    "    'base', 'article' and 'report'.  HTML includes 'basic' and 'full'. You\n",
    "    can specify the flavor of the format used.\n",
    "    \n",
    "    > jupyter nbconvert --to html --template basic mynotebook.ipynb\n",
    "    \n",
    "    You can also pipe the output to stdout, rather than a file\n",
    "    \n",
    "    > jupyter nbconvert mynotebook.ipynb --stdout\n",
    "    \n",
    "    PDF is generated via latex\n",
    "    \n",
    "    > jupyter nbconvert mynotebook.ipynb --to pdf\n",
    "    \n",
    "    You can get (and serve) a Reveal.js-powered slideshow\n",
    "    \n",
    "    > jupyter nbconvert myslides.ipynb --to slides --post serve\n",
    "    \n",
    "    Multiple notebooks can be given at the command line in a couple of \n",
    "    different ways:\n",
    "    \n",
    "    > jupyter nbconvert notebook*.ipynb\n",
    "    > jupyter nbconvert notebook1.ipynb notebook2.ipynb\n",
    "    \n",
    "    or you can specify the notebooks list in a config file, containing::\n",
    "    \n",
    "        c.NbConvertApp.notebooks = [\"my_notebook.ipynb\"]\n",
    "    \n",
    "    > jupyter nbconvert --config mycfg.py"
   ]
  },
  {
   "cell_type": "markdown",
   "metadata": {},
   "source": [
    "#### Creating TOC\n",
    "You can add a TOC manually with Markdown and HTML. Here's how I have been adding:\n",
    "```markdown\n",
    "Create TOC at top of Jupyter Notebook:\n",
    "## TOC:\n",
    "* [First Bullet Header](#first-bullet)\n",
    "* [Second Bullet Header](#second-bullet)\n",
    "\n",
    "Add html anchors throughout body:\n",
    "## First Bullet Header <a class=\"anchor\" id=\"first-bullet\"></a>\n",
    "\n",
    "code blocks...\n",
    "\n",
    "## Second Bullet Header <a class=\"anchor\" id=\"second-bullet\"></a>\n",
    "\n",
    "code blocks...\n",
    "```"
   ]
  },
  {
   "cell_type": "markdown",
   "metadata": {},
   "source": [
    "Go to the site-packages directory of your python environment and modify \n",
    "site-packages/notebook/static/notebook/js/main.min.js\n",
    "\n",
    "Find something like\n",
    "\n",
    "Notebook.options_default = {\n",
    "    // can be any cell type, or the special values of\n",
    "    // 'above', 'below', or 'selected' to get the value from another cell.\n",
    "    default_cell_type: 'markdown'\n",
    "};\n",
    "change default_cell_type: 'code' into default_cell_type: 'markdown'"
   ]
  },
  {
   "cell_type": "code",
   "execution_count": null,
   "metadata": {},
   "outputs": [],
   "source": [
    "import tkinter as tk\n",
    "from tkinter import filedialog\n",
    "\n",
    "root = tk.Tk()\n",
    "root.withdraw()\n",
    "\n",
    "file_path = filedialog.askopenfilename()\n",
    "print(file_path)\n"
   ]
  },
  {
   "cell_type": "markdown",
   "metadata": {},
   "source": [
    "### Install tkinter\n",
    "\n",
    "```python\n",
    "import tkinter\n",
    "```\n",
    "In both cases the the conda package name is simply tk (all lower case). You can check if you have it installed by doing:\n",
    "```python\n",
    "$ conda list | grep -i -e tk\n",
    "```\n",
    "\n",
    "and if it isn’t installed then the following should rectify things:\n",
    "\n",
    "```python\n",
    "$ conda install tk\n",
    "```"
   ]
  },
  {
   "cell_type": "code",
   "execution_count": null,
   "metadata": {
    "collapsed": true
   },
   "outputs": [],
   "source": []
  }
 ],
 "metadata": {
  "kernelspec": {
   "display_name": "Python 3",
   "language": "python",
   "name": "python3"
  },
  "language_info": {
   "codemirror_mode": {
    "name": "ipython",
    "version": 3
   },
   "file_extension": ".py",
   "mimetype": "text/x-python",
   "name": "python",
   "nbconvert_exporter": "python",
   "pygments_lexer": "ipython3",
   "version": "3.6.3"
  }
 },
 "nbformat": 4,
 "nbformat_minor": 2
}
