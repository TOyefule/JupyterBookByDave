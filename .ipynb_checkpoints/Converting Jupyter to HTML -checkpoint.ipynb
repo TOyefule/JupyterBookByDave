{
 "cells": [
  {
   "cell_type": "markdown",
   "metadata": {},
   "source": [
    "code from Feb 28 \n",
    "currently having issues with subprocess check_output returning non-zero exit status when creating the html\n"
   ]
  },
  {
   "cell_type": "markdown",
   "metadata": {},
   "source": [
    "###  How to open a file dialog box\n",
    "```python\n",
    "# open file dialog box\n",
    "import tkinter as tk\n",
    "from tkinter import filedialog\n",
    "\n",
    "root = tk.Tk()\n",
    "root.withdraw()\n",
    "\n",
    "print(\"Select the Jupyter Notebook you wish to convert\")\n",
    "fn = filedialog.askopenfilename()\n",
    "print(file_path)\n",
    "```"
   ]
  },
  {
   "cell_type": "markdown",
   "metadata": {},
   "source": [
    "### How to run a shell command from python\n",
    "```python\n",
    "# run a shell command from python and get the response\n",
    "# as a string into a varaiable which you can print or discard\n",
    "from subprocess import check_output\n",
    "response = check_output(\"dir C:\", shell=True)\n",
    "print (response)\n",
    "```"
   ]
  },
  {
   "cell_type": "markdown",
   "metadata": {},
   "source": [
    "#### How to convert a Jupyter Notebook to HTML using nbconvert\n",
    "##### verify that you have nbconvert installed as part of Anaconda\n",
    "```cmd\n",
    "jupyter nbconvert --help\n",
    "```\n",
    "\n",
    "The simplest way to use nbconvert is\n",
    "    > jupyter nbconvert mynotebook.ipynb\n",
    "which will convert mynotebook.ipynb to the default format (probably HTML).\n",
    "\n",
    "You can specify the export format with `--to`.\n",
    "Options include ['asciidoc', 'custom', 'html', 'latex', 'markdown', 'notebook', 'pdf', 'python', 'rst', 'script', 'slides']"
   ]
  },
  {
   "cell_type": "code",
   "execution_count": 29,
   "metadata": {},
   "outputs": [
    {
     "ename": "SyntaxError",
     "evalue": "invalid syntax (<ipython-input-29-d5c57a71f835>, line 19)",
     "output_type": "error",
     "traceback": [
      "\u001b[1;36m  File \u001b[1;32m\"<ipython-input-29-d5c57a71f835>\"\u001b[1;36m, line \u001b[1;32m19\u001b[0m\n\u001b[1;33m    %%cmd\u001b[0m\n\u001b[1;37m    ^\u001b[0m\n\u001b[1;31mSyntaxError\u001b[0m\u001b[1;31m:\u001b[0m invalid syntax\n"
     ]
    }
   ],
   "source": [
    "# open file dialog box\n",
    "import tkinter as tk\n",
    "from tkinter import filedialog\n",
    "import subprocess\n",
    "# from subprocess import check_output\n",
    "\n",
    "root = tk.Tk()\n",
    "root.withdraw()\n",
    "root.call('wm', 'attributes', '.', '-topmost', True)\n",
    "root.after_idle(root.call, 'wm', 'attributes', '.', '-topmost', False)\n",
    "\n",
    "print(\"Select the Jupyter Notebook you wish to convert\")\n",
    "fn = filedialog.askopenfilename()\n",
    "# print(file_path)\n",
    "# jupyter nbconvert --to html --template basic Jupyter_Book_Notes.ipynb\n",
    "print (fn)\n",
    "cmd = \"jupyter nbconvert --to html --template basic {0}\".format(fn)\n",
    "print (cmd)\n",
    "\n",
    "try:\n",
    "    # response = check_output(cmd, shell=True)\n",
    "    response = check_output(['jupyter','nbconvert --to html --template basic ' + fn])\n",
    "    print(response)\n",
    "except subprocess.CalledProcessError as e:\n",
    "    print (e)\n",
    "    \n"
   ]
  },
  {
   "cell_type": "markdown",
   "metadata": {},
   "source": [
    "### Random notes\n",
    "\n",
    "https://www.blog.pythonlibrary.org/2018/10/09/how-to-export-jupyter-notebooks-into-other-formats/"
   ]
  }
 ],
 "metadata": {
  "kernelspec": {
   "display_name": "Python 3",
   "language": "python",
   "name": "python3"
  },
  "language_info": {
   "codemirror_mode": {
    "name": "ipython",
    "version": 3
   },
   "file_extension": ".py",
   "mimetype": "text/x-python",
   "name": "python",
   "nbconvert_exporter": "python",
   "pygments_lexer": "ipython3",
   "version": "3.6.3"
  }
 },
 "nbformat": 4,
 "nbformat_minor": 2
}
